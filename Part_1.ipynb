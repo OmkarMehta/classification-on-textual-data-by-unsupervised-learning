{
 "cells": [
  {
   "cell_type": "markdown",
   "metadata": {},
   "source": [
    "# Part 1: Create TFIDF matrix"
   ]
  },
  {
   "cell_type": "markdown",
   "metadata": {},
   "source": [
    "We will first import the data"
   ]
  },
  {
   "cell_type": "code",
   "execution_count": 159,
   "metadata": {},
   "outputs": [],
   "source": [
    "from sklearn.datasets import fetch_20newsgroups"
   ]
  },
  {
   "cell_type": "markdown",
   "metadata": {},
   "source": [
    "We know that the programming language understands the language of numbers. So, we will convert the documents into tfidf matrix. "
   ]
  },
  {
   "cell_type": "code",
   "execution_count": 160,
   "metadata": {},
   "outputs": [],
   "source": [
    "from sklearn.feature_extraction.text import CountVectorizer\n",
    "from sklearn.feature_extraction.text import TfidfTransformer"
   ]
  },
  {
   "cell_type": "markdown",
   "metadata": {},
   "source": [
    "We will first get the datasets and preprocess it."
   ]
  },
  {
   "cell_type": "code",
   "execution_count": 161,
   "metadata": {},
   "outputs": [],
   "source": [
    "from nltk.stem.snowball import SnowballStemmer"
   ]
  },
  {
   "cell_type": "code",
   "execution_count": 162,
   "metadata": {},
   "outputs": [],
   "source": [
    "comp_subclasses = ['comp.graphics','comp.os.ms-windows.misc','comp.sys.ibm.pc.hardware','comp.sys.mac.hardware']\n",
    "rec_subclasses = ['rec.autos','rec.motorcycles','rec.sport.baseball','rec.sport.hockey']"
   ]
  },
  {
   "cell_type": "code",
   "execution_count": 163,
   "metadata": {},
   "outputs": [],
   "source": [
    "data = fetch_20newsgroups(subset='all', categories=comp_subclasses+rec_subclasses, shuffle = True, random_state=42, \n",
    "                         remove=('headers', 'footers', 'quotes'))"
   ]
  },
  {
   "cell_type": "code",
   "execution_count": 164,
   "metadata": {},
   "outputs": [],
   "source": [
    "labels = [1]*len(data.data)\n",
    "for i in range(len(data.data)):\n",
    "    if data.target[i]>3:\n",
    "        labels[i]=0\n",
    "        \n",
    "#labels"
   ]
  },
  {
   "cell_type": "markdown",
   "metadata": {},
   "source": [
    "**Preprocessing the data**"
   ]
  },
  {
   "cell_type": "code",
   "execution_count": 165,
   "metadata": {},
   "outputs": [],
   "source": [
    "import re\n",
    "stemmer = SnowballStemmer('english')"
   ]
  },
  {
   "cell_type": "code",
   "execution_count": 166,
   "metadata": {},
   "outputs": [],
   "source": [
    "punctuations='[! \\\" # $ % \\& \\' \\( \\) \\* + , \\- \\. \\/ : ; <=> ? @ \\[ \\\\ \\] ^ _ ` { \\| } ~]'"
   ]
  },
  {
   "cell_type": "code",
   "execution_count": 167,
   "metadata": {},
   "outputs": [],
   "source": [
    "def preprocessing(data):\n",
    "    for i in range(len(data)):\n",
    "        data[i] = \" \".join([stemmer.stem(data) for data in re.split(punctuations, data[i])])\n",
    "        data[i] = data[i].replace('\\n','').replace('\\t','').replace('\\r', '')\n",
    "preprocessing(data.data)"
   ]
  },
  {
   "cell_type": "markdown",
   "metadata": {},
   "source": [
    "Getting the Tf-idf matrix"
   ]
  },
  {
   "cell_type": "markdown",
   "metadata": {},
   "source": [
    "We will first create the instance of CountVectorizer"
   ]
  },
  {
   "cell_type": "code",
   "execution_count": 168,
   "metadata": {},
   "outputs": [],
   "source": [
    "#We will remove stopwords and set min_df = 3\n",
    "counts = CountVectorizer(stop_words='english', min_df=3, max_features=10000)"
   ]
  },
  {
   "cell_type": "code",
   "execution_count": 169,
   "metadata": {},
   "outputs": [],
   "source": [
    "#tokenize and build vocab\n",
    "X_counts = counts.fit_transform(data.data)"
   ]
  },
  {
   "cell_type": "code",
   "execution_count": 170,
   "metadata": {},
   "outputs": [],
   "source": [
    "#Getting vocab\n",
    "counts.vocabulary_.keys()\n",
    "vocab = []\n",
    "for i in counts.vocabulary_.keys():\n",
    "    vocab.append(i)\n",
    "#vocab"
   ]
  },
  {
   "cell_type": "code",
   "execution_count": 171,
   "metadata": {},
   "outputs": [],
   "source": [
    "#Encode the document\n",
    "tfidf_transformer = TfidfTransformer(use_idf=True)"
   ]
  },
  {
   "cell_type": "code",
   "execution_count": 172,
   "metadata": {},
   "outputs": [],
   "source": [
    "doc_features_matrix = tfidf_transformer.fit_transform(X_counts)"
   ]
  },
  {
   "cell_type": "code",
   "execution_count": 173,
   "metadata": {},
   "outputs": [
    {
     "data": {
      "text/plain": [
       "<7882x10000 sparse matrix of type '<class 'numpy.float64'>'\n",
       "\twith 325319 stored elements in Compressed Sparse Row format>"
      ]
     },
     "execution_count": 173,
     "metadata": {},
     "output_type": "execute_result"
    }
   ],
   "source": [
    "doc_features_matrix"
   ]
  },
  {
   "cell_type": "code",
   "execution_count": 174,
   "metadata": {},
   "outputs": [
    {
     "name": "stdout",
     "output_type": "stream",
     "text": [
      "(7882, 10000)\n"
     ]
    }
   ],
   "source": [
    "print(doc_features_matrix.shape)"
   ]
  },
  {
   "cell_type": "markdown",
   "metadata": {},
   "source": [
    "## K-means clustering"
   ]
  },
  {
   "cell_type": "markdown",
   "metadata": {},
   "source": [
    "We will now use Kmeans clustering from scikit library. \n",
    "You can learn more about how to implement code in python from [here](http://benalexkeen.com/k-means-clustering-in-python/)"
   ]
  },
  {
   "cell_type": "code",
   "execution_count": 175,
   "metadata": {},
   "outputs": [],
   "source": [
    "from sklearn.cluster import KMeans"
   ]
  },
  {
   "cell_type": "code",
   "execution_count": 176,
   "metadata": {},
   "outputs": [],
   "source": [
    "#help(KMeans)\n",
    "#We will first create the instance of KMeans class\n",
    "kmeans = KMeans(n_clusters=2, init='k-means++', n_init = 5, max_iter = 100)"
   ]
  },
  {
   "cell_type": "code",
   "execution_count": 177,
   "metadata": {},
   "outputs": [
    {
     "data": {
      "text/plain": [
       "KMeans(algorithm='auto', copy_x=True, init='k-means++', max_iter=100,\n",
       "    n_clusters=2, n_init=5, n_jobs=None, precompute_distances='auto',\n",
       "    random_state=None, tol=0.0001, verbose=0)"
      ]
     },
     "execution_count": 177,
     "metadata": {},
     "output_type": "execute_result"
    }
   ],
   "source": [
    "kmeans.fit(doc_features_matrix)"
   ]
  },
  {
   "cell_type": "markdown",
   "metadata": {},
   "source": [
    "We have fit our TF-IDF matrix data and now, we will look at its performance after looking at labels."
   ]
  },
  {
   "cell_type": "markdown",
   "metadata": {},
   "source": [
    "**Now, we will learn the labels.**"
   ]
  },
  {
   "cell_type": "code",
   "execution_count": 178,
   "metadata": {},
   "outputs": [
    {
     "data": {
      "text/plain": [
       "array([0, 1, 1, ..., 1, 0, 0])"
      ]
     },
     "execution_count": 178,
     "metadata": {},
     "output_type": "execute_result"
    }
   ],
   "source": [
    "predicted_labels = kmeans.predict(doc_features_matrix)\n",
    "predicted_labels"
   ]
  },
  {
   "cell_type": "markdown",
   "metadata": {},
   "source": [
    "**We can also get centroids.**"
   ]
  },
  {
   "cell_type": "code",
   "execution_count": 179,
   "metadata": {},
   "outputs": [],
   "source": [
    "centroids = kmeans.cluster_centers_"
   ]
  },
  {
   "cell_type": "markdown",
   "metadata": {},
   "source": [
    "**Let's try to plot.**"
   ]
  },
  {
   "cell_type": "code",
   "execution_count": 180,
   "metadata": {},
   "outputs": [],
   "source": [
    "import matplotlib.pyplot as plt\n",
    "%matplotlib inline\n",
    "colmap = {1: 'r', 2: 'g'}"
   ]
  },
  {
   "cell_type": "code",
   "execution_count": 181,
   "metadata": {},
   "outputs": [
    {
     "data": {
      "text/plain": [
       "<Figure size 1080x1080 with 0 Axes>"
      ]
     },
     "metadata": {},
     "output_type": "display_data"
    }
   ],
   "source": [
    "fig = plt.figure(figsize=(15,15))"
   ]
  },
  {
   "cell_type": "code",
   "execution_count": 182,
   "metadata": {},
   "outputs": [],
   "source": [
    "#colors = map(lambda x: colmap[x+1], predicted_labels)\n",
    "#plt.scatter(doc_features_matrix, doc_features_matrix, color=colors, alpha=0.5, edgecolor='k')"
   ]
  },
  {
   "cell_type": "markdown",
   "metadata": {},
   "source": [
    "### Performance of the fit"
   ]
  },
  {
   "cell_type": "code",
   "execution_count": 183,
   "metadata": {},
   "outputs": [],
   "source": [
    "from sklearn import metrics"
   ]
  },
  {
   "cell_type": "markdown",
   "metadata": {},
   "source": [
    "#### 1. Homogeneity"
   ]
  },
  {
   "cell_type": "markdown",
   "metadata": {},
   "source": [
    "Homogeneity is the measure of how \"pure\" the clusters are. If each cluster contains data points from a single class, then homogeneity is satisfied.\n"
   ]
  },
  {
   "cell_type": "code",
   "execution_count": 184,
   "metadata": {},
   "outputs": [
    {
     "name": "stdout",
     "output_type": "stream",
     "text": [
      "Homogeneity: 0.3846363179159233\n"
     ]
    }
   ],
   "source": [
    "print('Homogeneity:',metrics.homogeneity_score(labels, kmeans.labels_))\n",
    "#metrics.homogeneity_score()"
   ]
  },
  {
   "cell_type": "markdown",
   "metadata": {},
   "source": [
    "#### 2. Completeness"
   ]
  },
  {
   "cell_type": "markdown",
   "metadata": {},
   "source": [
    "A clustering result satisfies completeness if all data points of a class are assigned to the same cluster. Both of these scores span between 0 and 1; where 1 stands for perfect clustering."
   ]
  },
  {
   "cell_type": "code",
   "execution_count": 185,
   "metadata": {},
   "outputs": [
    {
     "name": "stdout",
     "output_type": "stream",
     "text": [
      "Completeness: 0.41781833053508083\n"
     ]
    }
   ],
   "source": [
    "print('Completeness:', metrics.completeness_score(labels, kmeans.labels_))\n",
    "#metrics.completeness_score()"
   ]
  },
  {
   "cell_type": "markdown",
   "metadata": {},
   "source": [
    "#### 3. V-measure"
   ]
  },
  {
   "cell_type": "markdown",
   "metadata": {},
   "source": [
    "The V-measure is then defined to be the harmonic average of homogeneity score and completeness score."
   ]
  },
  {
   "cell_type": "code",
   "execution_count": 186,
   "metadata": {},
   "outputs": [
    {
     "name": "stdout",
     "output_type": "stream",
     "text": [
      "V-Measure: 0.40054127551011154\n"
     ]
    }
   ],
   "source": [
    "print('V-Measure:',metrics.v_measure_score(labels,kmeans.labels_))"
   ]
  },
  {
   "cell_type": "markdown",
   "metadata": {},
   "source": [
    "#### 4. Adjusted Rand Score\n",
    "The adjusted Rand Index is similar to accuracy measure, which computes similarity between the clustering labels and ground truth labels. This method counts all pairs of points that both fall either in the same cluster and the same class or in different clusters and different classes."
   ]
  },
  {
   "cell_type": "code",
   "execution_count": 187,
   "metadata": {},
   "outputs": [
    {
     "name": "stdout",
     "output_type": "stream",
     "text": [
      "Adjusted Rand Score: 0.40588428668374904\n"
     ]
    }
   ],
   "source": [
    "print('Adjusted Rand Score:',metrics.adjusted_rand_score(labels,kmeans.labels_))\n",
    "#metrics.adjusted_rand_score()"
   ]
  },
  {
   "cell_type": "markdown",
   "metadata": {},
   "source": [
    "#### 5. Mutual information Score\n",
    "The adjusted mutual information score measures the mutual information between the cluster label distribution and the ground truth label distributions."
   ]
  },
  {
   "cell_type": "code",
   "execution_count": 188,
   "metadata": {},
   "outputs": [
    {
     "name": "stdout",
     "output_type": "stream",
     "text": [
      "Adjusted Mutual Info Score: 0.38457997946459016\n"
     ]
    },
    {
     "name": "stderr",
     "output_type": "stream",
     "text": [
      "C:\\Users\\Omkar Mehta\\Anaconda3\\lib\\site-packages\\sklearn\\metrics\\cluster\\supervised.py:732: FutureWarning: The behavior of AMI will change in version 0.22. To match the behavior of 'v_measure_score', AMI will use average_method='arithmetic' by default.\n",
      "  FutureWarning)\n"
     ]
    }
   ],
   "source": [
    "print('Adjusted Mutual Info Score:',metrics.adjusted_mutual_info_score(labels,kmeans.labels_))"
   ]
  },
  {
   "cell_type": "markdown",
   "metadata": {},
   "source": [
    "#### 6. Confusion Matrix\n"
   ]
  },
  {
   "cell_type": "code",
   "execution_count": 189,
   "metadata": {},
   "outputs": [
    {
     "name": "stdout",
     "output_type": "stream",
     "text": [
      "Confusion matrix:\n",
      "[[3893   86]\n",
      " [1344 2559]]\n"
     ]
    }
   ],
   "source": [
    "print('Confusion matrix:')\n",
    "print(metrics.confusion_matrix(labels,kmeans.labels_))"
   ]
  },
  {
   "cell_type": "markdown",
   "metadata": {},
   "source": [
    "**As seen above, we don't get a good clustering result. We have sparse matrix. So, we will reduce the dimensions using LSI or NMF**"
   ]
  },
  {
   "cell_type": "markdown",
   "metadata": {},
   "source": [
    "## Dimensionality Reduction"
   ]
  },
  {
   "cell_type": "markdown",
   "metadata": {},
   "source": [
    "We will first calculate the top singular values. "
   ]
  },
  {
   "cell_type": "code",
   "execution_count": 198,
   "metadata": {},
   "outputs": [
    {
     "name": "stdout",
     "output_type": "stream",
     "text": [
      "Calculating singular values\n"
     ]
    }
   ],
   "source": [
    "from scipy.sparse.linalg import svds\n",
    "print('Calculating singular values')\n",
    "num_singular_values=1000\n",
    "u,singular_values,vt=svds(doc_features_matrix.toarray(),num_singular_values)"
   ]
  },
  {
   "cell_type": "code",
   "execution_count": null,
   "metadata": {},
   "outputs": [],
   "source": [
    "#singular_values[::-1]"
   ]
  },
  {
   "cell_type": "code",
   "execution_count": 192,
   "metadata": {},
   "outputs": [
    {
     "name": "stdout",
     "output_type": "stream",
     "text": [
      "Calculating singular values\n",
      "Top 1000 singular values are:\n",
      "[11.82891123  7.30791304  6.01875856  5.70728526  5.50499002  5.31074929\n",
      "  4.83149177  4.613702    4.4773917   4.47294271  4.38078032  4.34095731\n",
      "  4.26352495  4.20059298  4.1582063   4.09500126  4.0469809   3.99616008\n",
      "  3.96236272  3.89114324  3.8353644   3.78340696  3.77031125  3.72961786\n",
      "  3.71475237  3.68469751  3.66428934  3.61633021  3.6097759   3.58902282\n",
      "  3.58023895  3.5560566   3.52810618  3.52098724  3.50067761  3.47148284\n",
      "  3.45381941  3.43947722  3.42425355  3.40363306  3.39620704  3.39101535\n",
      "  3.37267485  3.35413145  3.34665707  3.33132699  3.31978619  3.3103182\n",
      "  3.29166805  3.28538042  3.27152496  3.26287017  3.26110501  3.23758947\n",
      "  3.23325192  3.22829491  3.22015906  3.21064068  3.20153748  3.19451125\n",
      "  3.19066732  3.17438262  3.16587534  3.16261347  3.14654205  3.13990552\n",
      "  3.13721532  3.12170516  3.11512475  3.0960727   3.08534251  3.07905527\n",
      "  3.07086396  3.06282494  3.05692827  3.04776303  3.04145826  3.03185983\n",
      "  3.02992078  3.01907426  3.01605244  3.00652423  2.99847496  2.99388832\n",
      "  2.98978154  2.9754879   2.9697114   2.9593171   2.95556605  2.94577284\n",
      "  2.93510557  2.93259897  2.92384886  2.92150861  2.91179978  2.89793597\n",
      "  2.89297177  2.88194297  2.87443622  2.87273079  2.86971263  2.86420237\n",
      "  2.8623343   2.85151947  2.84710704  2.83830134  2.83307736  2.82399197\n",
      "  2.81951094  2.81488445  2.81192019  2.80146127  2.79654858  2.79054267\n",
      "  2.78529688  2.7797503   2.77361017  2.77076917  2.76434628  2.76127148\n",
      "  2.75351232  2.75125427  2.74300651  2.73438303  2.73302772  2.72730166\n",
      "  2.72283914  2.71971686  2.71326098  2.70989629  2.70599695  2.70446625\n",
      "  2.70276579  2.69467173  2.6928915   2.68777766  2.67943261  2.67413646\n",
      "  2.67122659  2.66657106  2.66598979  2.66000607  2.65657877  2.65230101\n",
      "  2.6498987   2.64350306  2.63939207  2.63668189  2.63077746  2.62542475\n",
      "  2.62197033  2.62013     2.6144839   2.61288396  2.60855904  2.60199163\n",
      "  2.59991518  2.5981713   2.59600171  2.59184583  2.5870862   2.58205689\n",
      "  2.57656368  2.57391014  2.56791598  2.5631715   2.56150448  2.55725992\n",
      "  2.55430861  2.54934998  2.54720163  2.54283653  2.54168271  2.5396013\n",
      "  2.53527912  2.53344369  2.53179446  2.53087857  2.52986162  2.52436897\n",
      "  2.51948661  2.51604435  2.51058667  2.51008486  2.5025533   2.49927972\n",
      "  2.4952177   2.49351947  2.49056636  2.48949551  2.48612121  2.48103562\n",
      "  2.47656681  2.47497395  2.47130549  2.47022463  2.46930468  2.46702258\n",
      "  2.46451983  2.46066081  2.45942017  2.45648548  2.45064662  2.44704696\n",
      "  2.44356056  2.44269651  2.44019252  2.43804163  2.43640119  2.43302946\n",
      "  2.4307112   2.42812297  2.42403931  2.42255538  2.42127097  2.41859598\n",
      "  2.41683946  2.41318032  2.41024015  2.40753697  2.40640589  2.40392874\n",
      "  2.39823023  2.39621884  2.39340009  2.39273865  2.39033993  2.38675599\n",
      "  2.3853532   2.38316266  2.38081146  2.37579254  2.37362568  2.37063132\n",
      "  2.36587317  2.36547124  2.36389074  2.36246209  2.36080467  2.3567574\n",
      "  2.35438358  2.35179202  2.34867282  2.34749055  2.34424733  2.34210903\n",
      "  2.33850663  2.33434503  2.3332501   2.32988741  2.32651779  2.325698\n",
      "  2.32275532  2.31817254  2.31617533  2.31248819  2.31139507  2.30959494\n",
      "  2.30764563  2.30588423  2.30302591  2.30183637  2.29956325  2.29749718\n",
      "  2.29430706  2.29210792  2.29064143  2.28865568  2.2860843   2.28364429\n",
      "  2.28319479  2.2789457   2.2763001   2.27449104  2.27302946  2.26974339\n",
      "  2.26686971  2.26434422  2.26302456  2.26039414  2.25623048  2.25580301\n",
      "  2.25442207  2.25268249  2.2517027   2.24917562  2.24709213  2.24453537\n",
      "  2.24240265  2.24132311  2.23869582  2.23610714  2.2342889   2.23052564\n",
      "  2.23007526  2.22648971  2.22452549  2.22182929  2.21991099  2.21874702\n",
      "  2.21776054  2.21731413  2.21296453  2.21139443  2.20848722  2.20778402\n",
      "  2.20691731  2.20499942  2.2026833   2.20079546  2.19992549  2.19790524\n",
      "  2.19461586  2.19353524  2.18944146  2.18779036  2.18609895  2.18576809\n",
      "  2.18301405  2.17959087  2.17655057  2.1759061   2.17519781  2.17201212\n",
      "  2.17152303  2.17012866  2.16840556  2.16737323  2.16557912  2.16426376\n",
      "  2.16016905  2.15885685  2.15791891  2.15461617  2.15392898  2.15196149\n",
      "  2.14946213  2.14755329  2.14648412  2.14450115  2.14334442  2.14012223\n",
      "  2.13894602  2.13727148  2.13587118  2.13531981  2.13270382  2.13052513\n",
      "  2.12783146  2.12677723  2.1252851   2.1246395   2.12361953  2.12044289\n",
      "  2.11861851  2.11642053  2.11603388  2.11330409  2.11106467  2.10896801\n",
      "  2.10753918  2.10663946  2.10583448  2.10219868  2.10142176  2.09828895\n",
      "  2.09668165  2.09576398  2.09436096  2.09206363  2.09084983  2.08894075\n",
      "  2.08748145  2.08544083  2.08261433  2.08251853  2.08120393  2.07928521\n",
      "  2.07679206  2.07447976  2.07438242  2.07119966  2.06987032  2.06866\n",
      "  2.06736832  2.06670084  2.06514614  2.06367838  2.06184043  2.05976377\n",
      "  2.05806392  2.05797137  2.05655757  2.05453351  2.05352248  2.05246217\n",
      "  2.05084925  2.04890396  2.04726509  2.04615558  2.04462366  2.04389767\n",
      "  2.0411658   2.03953634  2.03750352  2.03737812  2.03462366  2.03213242\n",
      "  2.03027973  2.02970131  2.02844174  2.02786302  2.02743195  2.02545144\n",
      "  2.02428296  2.01926003  2.01825255  2.01703115  2.01495564  2.01352752\n",
      "  2.01214215  2.01115725  2.01003006  2.00884893  2.00786149  2.00575124\n",
      "  2.0033372   2.00183138  1.9994907   1.99880088  1.99723705  1.99551388\n",
      "  1.99437294  1.99302245  1.99244366  1.99202451  1.99014339  1.98671197\n",
      "  1.98623973  1.98435597  1.98375206  1.98311989  1.9809344   1.97885063\n",
      "  1.97782446  1.97742539  1.97635411  1.97533708  1.97312819  1.97251138\n",
      "  1.97047689  1.9696302   1.96692434  1.96518437  1.96414798  1.96389763\n",
      "  1.9613724   1.96002996  1.95811647  1.95643597  1.95564536  1.9531552\n",
      "  1.952872    1.95100103  1.94988612  1.9485976   1.94793424  1.94587552\n",
      "  1.94464893  1.94420156  1.94286358  1.9419073   1.940918    1.93974848\n",
      "  1.93711066  1.93569504  1.93494935  1.93350644  1.92980742  1.92966305\n",
      "  1.9293899   1.92696947  1.92624747  1.92440229  1.92354336  1.9219162\n",
      "  1.92029722  1.91926521  1.91878211  1.91589686  1.91513688  1.91404075\n",
      "  1.91361603  1.91085493  1.91026404  1.90870531  1.90800712  1.90630862\n",
      "  1.90567805  1.90435803  1.90299473  1.90180509  1.90053429  1.89850713\n",
      "  1.89743316  1.89701566  1.89577893  1.89402041  1.89272991  1.89212364\n",
      "  1.89030002  1.88924612  1.88847443  1.88719012  1.88672732  1.88566712\n",
      "  1.88334246  1.88287051  1.88129039  1.87991993  1.87831205  1.87681172\n",
      "  1.87647811  1.87438468  1.87394415  1.87342361  1.87079525  1.86964032\n",
      "  1.86850606  1.86641908  1.86586168  1.86448262  1.86272784  1.8615493\n",
      "  1.86056248  1.85971703  1.85816358  1.85704549  1.85635194  1.85499281\n",
      "  1.85455909  1.85240952  1.85126684  1.8500619   1.84911539  1.8484675\n",
      "  1.84691153  1.8457881   1.84485991  1.84277289  1.84226643  1.84167722\n",
      "  1.84072369  1.83754264  1.83678734  1.83485385  1.83307159  1.83284025\n",
      "  1.83234457  1.82967571  1.82948869  1.82867666  1.827921    1.82574828\n",
      "  1.82537478  1.82319986  1.82298982  1.8223496   1.82192899  1.8207306\n",
      "  1.81962932  1.81837136  1.81632729  1.81487847  1.81406821  1.81243553\n",
      "  1.81170773  1.81119758  1.80992924  1.80926492  1.80851443  1.80809716\n",
      "  1.80676653  1.80463475  1.80309282  1.80189893  1.8013126   1.79910132\n",
      "  1.79808506  1.7970875   1.79578571  1.79536264  1.79449992  1.79370042\n",
      "  1.79109434  1.79080984  1.78953556  1.78825781  1.78707117  1.78531381\n",
      "  1.78515738  1.78465164  1.78352324  1.78256287  1.78089028  1.7785264\n",
      "  1.77785463  1.77693882  1.77619127  1.77541644  1.77423539  1.77379558\n",
      "  1.77250234  1.77205154  1.7698352   1.76909729  1.7680735   1.76777363\n",
      "  1.76601814  1.76493997  1.7637474   1.76259941  1.76103709  1.76046509\n",
      "  1.75922641  1.75802389  1.75746679  1.75703627  1.75565954  1.75557791\n",
      "  1.75418987  1.75250145  1.75033816  1.74946257  1.74820595  1.74750859\n",
      "  1.74680366  1.74582261  1.74493298  1.74361889  1.74338492  1.74247483\n",
      "  1.74062232  1.73941397  1.73850316  1.73793383  1.73732528  1.7369092\n",
      "  1.73523771  1.73426154  1.73244069  1.73193058  1.73063664  1.72961602\n",
      "  1.72896348  1.72839234  1.7268933   1.72521189  1.72464814  1.72378141\n",
      "  1.72281636  1.7213273   1.71962367  1.71937743  1.71842907  1.71814031\n",
      "  1.71619057  1.71551305  1.71527068  1.71421854  1.71232903  1.71115309\n",
      "  1.70993993  1.70855673  1.70699397  1.7065358   1.70527297  1.70454483\n",
      "  1.70400258  1.7034077   1.70213775  1.70116512  1.70034579  1.69855533\n",
      "  1.69821558  1.69698879  1.69625779  1.69580749  1.69371599  1.69340528\n",
      "  1.69286067  1.69141337  1.69011712  1.68958373  1.68801629  1.68759602\n",
      "  1.68694766  1.68576099  1.6844436   1.68385718  1.6837201   1.68197789\n",
      "  1.68164831  1.68093542  1.68002234  1.67839665  1.67813069  1.67721878\n",
      "  1.67672658  1.67650562  1.67483223  1.6742711   1.6725186   1.67145259\n",
      "  1.6698132   1.6696456   1.66913362  1.6684148   1.66727656  1.66650029\n",
      "  1.66567921  1.66407692  1.66348799  1.66280239  1.66193923  1.66054028\n",
      "  1.65981031  1.6592499   1.65782699  1.65628855  1.65510925  1.65425903\n",
      "  1.65303461  1.65265379  1.65050152  1.64998306  1.64930113  1.64847242\n",
      "  1.6481846   1.64735303  1.64590727  1.64513564  1.64438126  1.6431404\n",
      "  1.64168232  1.64122275  1.64043814  1.63974717  1.63885222  1.63793822\n",
      "  1.63681988  1.63659081  1.63583217  1.63480437  1.63330154  1.63284793\n",
      "  1.63227031  1.63171133  1.63011663  1.62940192  1.62890502  1.62784997\n",
      "  1.62703282  1.62665766  1.62519724  1.62379702  1.6227735   1.62218743\n",
      "  1.622078    1.62109674  1.62047261  1.62004512  1.61920962  1.6175054\n",
      "  1.61706214  1.61690637  1.6150106   1.61354257  1.61250086  1.61214698\n",
      "  1.61069875  1.61050083  1.61007928  1.60949824  1.60776858  1.60673997\n",
      "  1.60646972  1.60583286  1.60500613  1.60313822  1.60309057  1.6023981\n",
      "  1.60161606  1.60126735  1.60039301  1.59971247  1.59795529  1.59739971\n",
      "  1.59645747  1.59531023  1.59482525  1.59413431  1.59277051  1.59254189\n",
      "  1.59199078  1.59087867  1.59064445  1.58955028  1.58902711  1.58880954\n",
      "  1.5876306   1.58706963  1.58570214  1.58491758  1.58353346  1.5827937\n",
      "  1.58251428  1.58125036  1.58104734  1.5803118   1.5792205   1.57846576\n",
      "  1.57696645  1.57647865  1.57584142  1.57439707  1.57402792  1.57347681\n",
      "  1.57266945  1.57187513  1.57023155  1.56973536  1.56934409  1.56879944\n",
      "  1.56770477  1.56717574  1.56666465  1.56501905  1.56434941  1.56401363\n",
      "  1.56315564  1.56193767  1.56093616  1.56026867  1.55961778  1.55816236\n",
      "  1.55723509  1.5565927   1.55580278  1.55475711  1.55389085  1.55316987\n",
      "  1.55265697  1.55244503  1.55102614  1.55036994  1.54915999  1.54890708\n",
      "  1.54826311  1.5473321   1.54639924  1.54526833  1.54409651  1.54366662\n",
      "  1.54281817  1.54183312  1.54132555  1.54095813  1.54001713  1.5395569\n",
      "  1.53897303  1.53817205  1.53740774  1.53627494  1.5348486   1.53443038\n",
      "  1.53386842  1.53310529  1.53236634  1.53223681  1.53137779  1.52973044\n",
      "  1.52957382  1.52866516  1.52728046  1.5266511   1.52643588  1.52553396\n",
      "  1.52351441  1.52325361  1.5224475   1.52183095  1.52109128  1.52065965\n",
      "  1.519907    1.5186134   1.51835499  1.51751697  1.51702708  1.51656623\n",
      "  1.51544929  1.51528967  1.51420852  1.51292286  1.51261458  1.51151151\n",
      "  1.51070849  1.50967597  1.5094036   1.50861921  1.50812327  1.50718703\n",
      "  1.50686312  1.50616001  1.50568117  1.50515202  1.50412024  1.50287926\n",
      "  1.50264179  1.50182984  1.50141465  1.50017092  1.49985651  1.49908436\n",
      "  1.49815477  1.49753292  1.49689363  1.49600914  1.49583994  1.49499201\n",
      "  1.4945809   1.49376811  1.49326949  1.4918954   1.49173193  1.49144805\n",
      "  1.4905733   1.48999011  1.48921684  1.48770951  1.48687283  1.48629226\n",
      "  1.48507251  1.48368243  1.48260721  1.48206739  1.48133301  1.48077736\n",
      "  1.48032113  1.47991305  1.47928019  1.47846574  1.47687545  1.47665308\n",
      "  1.47595167  1.47551575  1.47488913  1.47397057  1.47278397  1.4716132\n",
      "  1.4711132   1.47016556  1.46996024  1.46948157  1.4689545   1.46792645\n",
      "  1.46772462  1.4673721   1.46634463  1.46554251  1.46520272  1.46429214\n",
      "  1.46365858  1.46210637  1.46167907  1.4611137   1.46013409  1.45965637\n",
      "  1.45925396  1.45842161  1.45794294  1.45748351  1.45712132  1.45615099\n",
      "  1.45572203  1.45492136  1.45410276  1.45348776  1.45214445  1.45166056\n",
      "  1.45143051  1.45088092  1.45001598  1.44937115  1.4483272   1.44822253\n",
      "  1.44705672  1.44677137  1.44556701  1.44510451]\n"
     ]
    },
    {
     "data": {
      "image/png": "[encoded data removed]",
      "text/plain": [
       "<Figure size 720x432 with 1 Axes>"
      ]
     },
     "metadata": {
      "needs_background": "light"
     },
     "output_type": "display_data"
    }
   ],
   "source": [
    "#Calculate top singular values & creating the required plot \n",
    "print('Calculating singular values')\n",
    "num_singular_values=1000\n",
    "u,singular_values,vt=svds(doc_features_matrix.toarray(),num_singular_values)\n",
    "singular_values=singular_values[::-1]\n",
    "print('Top',num_singular_values,'singular values are:')\n",
    "print(singular_values)\n",
    "\n",
    "plt.figure(figsize=(10,6))\n",
    "plt.plot(range(1,1001),singular_values)\n",
    "plt.ylabel('Singular Value',fontsize=15)\n",
    "plt.xlabel('Index',fontsize=15)\n",
    "plt.title('Percent of variance the top r principle components can retain v.s. r',fontsize=15)\n",
    "plt.axis([-1,1001,0,14])\n",
    "plt.show()\n"
   ]
  },
  {
   "cell_type": "markdown",
   "metadata": {},
   "source": [
    "As we can see from the plot, the singular values are sorted in descending order. Also, the\n",
    "decreasing rate (i.e. the slope of the curve) of the singular values is very high in the beginning,\n",
    "and it slows down very fast. Also, there is an obvious inflection point on the curve at around the 50th singular value.\n",
    "After that point, the rate of decrease becomes relatively slow. In order to retain as much\n",
    "information as we could, we choose the upper limit of the dimension, to be used in the K-means\n",
    "algorithm, to be 300.\n",
    "\n",
    "#### We will try to see for what value of r do we get the best possible result.\n",
    "\n",
    "#Experiment with r = 1, 2, 3, 5, 10, 20, 50, 100, 200, 300"
   ]
  },
  {
   "cell_type": "code",
   "execution_count": null,
   "metadata": {},
   "outputs": [],
   "source": [
    "#Performing K-Means Clustering\n",
    "def k_means(X_reduced,labels,dim_reduce):\n",
    "\n",
    "    km=KMeans(n_clusters=2,init='k-means++',max_iter=100,n_init=1)\n",
    "    km.fit(X_reduced)\n",
    "\n",
    "    #Printing the required measures for comparison of different clustering results\n",
    "    print('Dimensionality Reduction method:',dim_reduce)\n",
    "    print('Homogeneity:',metrics.homogeneity_score(labels,km.labels_))\n",
    "    print('Completeness:',metrics.completeness_score(labels,km.labels_))\n",
    "    print('V-Measure:',metrics.v_measure_score(labels,km.labels_))\n",
    "    print('Adjusted Rand Score:',metrics.adjusted_rand_score(labels,km.labels_))\n",
    "    print('Adjusted Mutual Info Score:',metrics.adjusted_mutual_info_score(labels,km.labels_))\n",
    "    print('Confusion matrix:')\n",
    "    print(metrics.confusion_matrix(labels,km.labels_))\n",
    "    print('\\n\\n\\n')"
   ]
  },
  {
   "cell_type": "markdown",
   "metadata": {},
   "source": [
    "### 1. Truncated SVD"
   ]
  },
  {
   "cell_type": "markdown",
   "metadata": {},
   "source": [
    "Let's first imporr the library"
   ]
  },
  {
   "cell_type": "code",
   "execution_count": 204,
   "metadata": {},
   "outputs": [],
   "source": [
    "from sklearn.decomposition import TruncatedSVD"
   ]
  },
  {
   "cell_type": "markdown",
   "metadata": {},
   "source": [
    "You can learn about Normalizer [here](https://scikit-learn.org/stable/modules/generated/sklearn.preprocessing.Normalizer.html) and about pipeline [here](https://scikit-learn.org/stable/modules/generated/sklearn.pipeline.make_pipeline.html)  "
   ]
  },
  {
   "cell_type": "code",
   "execution_count": 205,
   "metadata": {},
   "outputs": [],
   "source": [
    "from sklearn.preprocessing import Normalizer\n",
    "from sklearn.pipeline import make_pipeline\n"
   ]
  },
  {
   "cell_type": "code",
   "execution_count": 217,
   "metadata": {},
   "outputs": [
    {
     "name": "stdout",
     "output_type": "stream",
     "text": [
      "Performing truncatedSVD with 1 components\n",
      "Dimensionality Reduction method: truncated SVD\n",
      "Homogeneity: 0.000373970514827084\n",
      "Completeness: 0.0016800014481569605\n",
      "V-Measure: 0.0006117620082454707\n",
      "Adjusted Rand Score: -9.740275582078718e-05\n",
      "Adjusted Mutual Info Score: 0.00028230866536315134\n",
      "Confusion matrix:\n",
      "[[3820  159]\n",
      " [3780  123]]\n",
      "\n",
      "\n",
      "\n",
      "\n",
      "Performing truncatedSVD with 2 components\n"
     ]
    },
    {
     "name": "stderr",
     "output_type": "stream",
     "text": [
      "C:\\Users\\Omkar Mehta\\Anaconda3\\lib\\site-packages\\sklearn\\metrics\\cluster\\supervised.py:732: FutureWarning: The behavior of AMI will change in version 0.22. To match the behavior of 'v_measure_score', AMI will use average_method='arithmetic' by default.\n",
      "  FutureWarning)\n"
     ]
    },
    {
     "name": "stdout",
     "output_type": "stream",
     "text": [
      "Dimensionality Reduction method: truncated SVD\n",
      "Homogeneity: 0.46651784958469233\n",
      "Completeness: 0.46950865542089026\n",
      "V-Measure: 0.4680084743691049\n",
      "Adjusted Rand Score: 0.5613982828672285\n",
      "Adjusted Mutual Info Score: 0.46646900903386707\n",
      "Confusion matrix:\n",
      "[[ 699 3280]\n",
      " [3614  289]]\n",
      "\n",
      "\n",
      "\n",
      "\n",
      "Performing truncatedSVD with 3 components\n"
     ]
    },
    {
     "name": "stderr",
     "output_type": "stream",
     "text": [
      "C:\\Users\\Omkar Mehta\\Anaconda3\\lib\\site-packages\\sklearn\\metrics\\cluster\\supervised.py:732: FutureWarning: The behavior of AMI will change in version 0.22. To match the behavior of 'v_measure_score', AMI will use average_method='arithmetic' by default.\n",
      "  FutureWarning)\n"
     ]
    },
    {
     "name": "stdout",
     "output_type": "stream",
     "text": [
      "Dimensionality Reduction method: truncated SVD\n",
      "Homogeneity: 0.49246465942022466\n",
      "Completeness: 0.49252242556999126\n",
      "V-Measure: 0.49249354080121366\n",
      "Adjusted Rand Score: 0.6004661593854248\n",
      "Adjusted Mutual Info Score: 0.49241819441555285\n",
      "Confusion matrix:\n",
      "[[3548  431]\n",
      " [ 456 3447]]\n",
      "\n",
      "\n",
      "\n",
      "\n",
      "Performing truncatedSVD with 5 components\n"
     ]
    },
    {
     "name": "stderr",
     "output_type": "stream",
     "text": [
      "C:\\Users\\Omkar Mehta\\Anaconda3\\lib\\site-packages\\sklearn\\metrics\\cluster\\supervised.py:732: FutureWarning: The behavior of AMI will change in version 0.22. To match the behavior of 'v_measure_score', AMI will use average_method='arithmetic' by default.\n",
      "  FutureWarning)\n"
     ]
    },
    {
     "name": "stdout",
     "output_type": "stream",
     "text": [
      "Dimensionality Reduction method: truncated SVD\n",
      "Homogeneity: 0.504523738355312\n",
      "Completeness: 0.5054673171661493\n",
      "V-Measure: 0.5049950869939697\n",
      "Adjusted Rand Score: 0.6111326575734707\n",
      "Adjusted Mutual Info Score: 0.5044783773347385\n",
      "Confusion matrix:\n",
      "[[3632  347]\n",
      " [ 513 3390]]\n",
      "\n",
      "\n",
      "\n",
      "\n",
      "Performing truncatedSVD with 10 components\n"
     ]
    },
    {
     "name": "stderr",
     "output_type": "stream",
     "text": [
      "C:\\Users\\Omkar Mehta\\Anaconda3\\lib\\site-packages\\sklearn\\metrics\\cluster\\supervised.py:732: FutureWarning: The behavior of AMI will change in version 0.22. To match the behavior of 'v_measure_score', AMI will use average_method='arithmetic' by default.\n",
      "  FutureWarning)\n"
     ]
    },
    {
     "name": "stdout",
     "output_type": "stream",
     "text": [
      "Dimensionality Reduction method: truncated SVD\n",
      "Homogeneity: 0.4950388632104682\n",
      "Completeness: 0.49625766182220843\n",
      "V-Measure: 0.4956475132601781\n",
      "Adjusted Rand Score: 0.5973237993723396\n",
      "Adjusted Mutual Info Score: 0.4949926338367035\n",
      "Confusion matrix:\n",
      "[[3396  583]\n",
      " [ 312 3591]]\n",
      "\n",
      "\n",
      "\n",
      "\n",
      "Performing truncatedSVD with 20 components\n"
     ]
    },
    {
     "name": "stderr",
     "output_type": "stream",
     "text": [
      "C:\\Users\\Omkar Mehta\\Anaconda3\\lib\\site-packages\\sklearn\\metrics\\cluster\\supervised.py:732: FutureWarning: The behavior of AMI will change in version 0.22. To match the behavior of 'v_measure_score', AMI will use average_method='arithmetic' by default.\n",
      "  FutureWarning)\n"
     ]
    },
    {
     "name": "stdout",
     "output_type": "stream",
     "text": [
      "Dimensionality Reduction method: truncated SVD\n",
      "Homogeneity: 0.47463009483007285\n",
      "Completeness: 0.47675596552853483\n",
      "V-Measure: 0.47569065505188973\n",
      "Adjusted Rand Score: 0.5728654410018379\n",
      "Adjusted Mutual Info Score: 0.4745819969920257\n",
      "Confusion matrix:\n",
      "[[3325  654]\n",
      " [ 304 3599]]\n",
      "\n",
      "\n",
      "\n",
      "\n",
      "Performing truncatedSVD with 50 components\n"
     ]
    },
    {
     "name": "stderr",
     "output_type": "stream",
     "text": [
      "C:\\Users\\Omkar Mehta\\Anaconda3\\lib\\site-packages\\sklearn\\metrics\\cluster\\supervised.py:732: FutureWarning: The behavior of AMI will change in version 0.22. To match the behavior of 'v_measure_score', AMI will use average_method='arithmetic' by default.\n",
      "  FutureWarning)\n"
     ]
    },
    {
     "name": "stdout",
     "output_type": "stream",
     "text": [
      "Dimensionality Reduction method: truncated SVD\n",
      "Homogeneity: 0.4985468102006046\n",
      "Completeness: 0.5030044389360215\n",
      "V-Measure: 0.5007657047294831\n",
      "Adjusted Rand Score: 0.589114328169052\n",
      "Adjusted Mutual Info Score: 0.4985009018757307\n",
      "Confusion matrix:\n",
      "[[ 696 3283]\n",
      " [3683  220]]\n",
      "\n",
      "\n",
      "\n",
      "\n",
      "Performing truncatedSVD with 100 components\n"
     ]
    },
    {
     "name": "stderr",
     "output_type": "stream",
     "text": [
      "C:\\Users\\Omkar Mehta\\Anaconda3\\lib\\site-packages\\sklearn\\metrics\\cluster\\supervised.py:732: FutureWarning: The behavior of AMI will change in version 0.22. To match the behavior of 'v_measure_score', AMI will use average_method='arithmetic' by default.\n",
      "  FutureWarning)\n"
     ]
    },
    {
     "name": "stdout",
     "output_type": "stream",
     "text": [
      "Dimensionality Reduction method: truncated SVD\n",
      "Homogeneity: 0.22366389714124088\n",
      "Completeness: 0.30940277554799944\n",
      "V-Measure: 0.25963818077865364\n",
      "Adjusted Rand Score: 0.14983512284913955\n",
      "Adjusted Mutual Info Score: 0.22359281324612668\n",
      "Confusion matrix:\n",
      "[[2407 1572]\n",
      " [3895    8]]\n",
      "\n",
      "\n",
      "\n",
      "\n",
      "Performing truncatedSVD with 200 components\n"
     ]
    },
    {
     "name": "stderr",
     "output_type": "stream",
     "text": [
      "C:\\Users\\Omkar Mehta\\Anaconda3\\lib\\site-packages\\sklearn\\metrics\\cluster\\supervised.py:732: FutureWarning: The behavior of AMI will change in version 0.22. To match the behavior of 'v_measure_score', AMI will use average_method='arithmetic' by default.\n",
      "  FutureWarning)\n"
     ]
    },
    {
     "name": "stdout",
     "output_type": "stream",
     "text": [
      "Dimensionality Reduction method: truncated SVD\n",
      "Homogeneity: 0.5292510051197518\n",
      "Completeness: 0.5330849826754998\n",
      "V-Measure: 0.5311610754725387\n",
      "Adjusted Rand Score: 0.621893103123209\n",
      "Adjusted Mutual Info Score: 0.5292079078072118\n",
      "Confusion matrix:\n",
      "[[3346  633]\n",
      " [ 200 3703]]\n",
      "\n",
      "\n",
      "\n",
      "\n",
      "Performing truncatedSVD with 300 components\n"
     ]
    },
    {
     "name": "stderr",
     "output_type": "stream",
     "text": [
      "C:\\Users\\Omkar Mehta\\Anaconda3\\lib\\site-packages\\sklearn\\metrics\\cluster\\supervised.py:732: FutureWarning: The behavior of AMI will change in version 0.22. To match the behavior of 'v_measure_score', AMI will use average_method='arithmetic' by default.\n",
      "  FutureWarning)\n"
     ]
    },
    {
     "name": "stdout",
     "output_type": "stream",
     "text": [
      "Dimensionality Reduction method: truncated SVD\n",
      "Homogeneity: 0.5407182209098558\n",
      "Completeness: 0.5432848151378087\n",
      "V-Measure: 0.5419984795609719\n",
      "Adjusted Rand Score: 0.6380068927742563\n",
      "Adjusted Mutual Info Score: 0.5406761734638624\n",
      "Confusion matrix:\n",
      "[[ 576 3403]\n",
      " [3686  217]]\n",
      "\n",
      "\n",
      "\n",
      "\n"
     ]
    },
    {
     "name": "stderr",
     "output_type": "stream",
     "text": [
      "C:\\Users\\Omkar Mehta\\Anaconda3\\lib\\site-packages\\sklearn\\metrics\\cluster\\supervised.py:732: FutureWarning: The behavior of AMI will change in version 0.22. To match the behavior of 'v_measure_score', AMI will use average_method='arithmetic' by default.\n",
      "  FutureWarning)\n"
     ]
    }
   ],
   "source": [
    "for i in [1,2,3,5,10,20,50,100,200,300]:\n",
    "    print('Performing truncatedSVD with',i,'components')\n",
    "    svd = TruncatedSVD(n_components = i, n_iter=13, random_state=42)\n",
    "    normalizer = Normalizer(copy=False)\n",
    "    lsa = make_pipeline(svd, normalizer)\n",
    "    doc_features_matrix_reduced = lsa.fit_transform(doc_features_matrix)\n",
    "    k_means(doc_features_matrix_reduced, labels, 'truncated SVD')"
   ]
  },
  {
   "cell_type": "markdown",
   "metadata": {},
   "source": [
    "**As we can see from the above results, the best value of r is 200 for TruncatedSVD.**\n",
    "\n",
    "* This clearly shows that the algorithm’s precision is improved, since the confusion matrix looks more ‘diagonal’ than the one in the previous question, which means that we are getting better results."
   ]
  },
  {
   "cell_type": "markdown",
   "metadata": {},
   "source": [
    "### 2. PCA"
   ]
  },
  {
   "cell_type": "code",
   "execution_count": 216,
   "metadata": {},
   "outputs": [],
   "source": [
    "from sklearn.decomposition import PCA"
   ]
  },
  {
   "cell_type": "code",
   "execution_count": 218,
   "metadata": {},
   "outputs": [
    {
     "name": "stdout",
     "output_type": "stream",
     "text": [
      "Performing PCA with 1 components\n",
      "Dimensionality Reduction method: PCA\n",
      "Homogeneity: 0.4510780500633602\n",
      "Completeness: 0.45463855629526134\n",
      "V-Measure: 0.4528513047404292\n",
      "Adjusted Rand Score: 0.5485422781302381\n",
      "Adjusted Mutual Info Score: 0.45102779596507453\n",
      "Confusion matrix:\n",
      "[[3655  324]\n",
      " [ 698 3205]]\n",
      "\n",
      "\n",
      "\n",
      "\n",
      "Performing PCA with 2 components\n"
     ]
    },
    {
     "name": "stderr",
     "output_type": "stream",
     "text": [
      "C:\\Users\\Omkar Mehta\\Anaconda3\\lib\\site-packages\\sklearn\\metrics\\cluster\\supervised.py:732: FutureWarning: The behavior of AMI will change in version 0.22. To match the behavior of 'v_measure_score', AMI will use average_method='arithmetic' by default.\n",
      "  FutureWarning)\n"
     ]
    },
    {
     "name": "stdout",
     "output_type": "stream",
     "text": [
      "Dimensionality Reduction method: PCA\n",
      "Homogeneity: 0.465424094420505\n",
      "Completeness: 0.47054658209788947\n",
      "V-Measure: 0.46797132079013376\n",
      "Adjusted Rand Score: 0.5594984454608669\n",
      "Adjusted Mutual Info Score: 0.46537515365646065\n",
      "Confusion matrix:\n",
      "[[ 273 3706]\n",
      " [3183  720]]\n",
      "\n",
      "\n",
      "\n",
      "\n",
      "Performing PCA with 3 components\n"
     ]
    },
    {
     "name": "stderr",
     "output_type": "stream",
     "text": [
      "C:\\Users\\Omkar Mehta\\Anaconda3\\lib\\site-packages\\sklearn\\metrics\\cluster\\supervised.py:732: FutureWarning: The behavior of AMI will change in version 0.22. To match the behavior of 'v_measure_score', AMI will use average_method='arithmetic' by default.\n",
      "  FutureWarning)\n"
     ]
    },
    {
     "name": "stdout",
     "output_type": "stream",
     "text": [
      "Dimensionality Reduction method: PCA\n",
      "Homogeneity: 0.47672905135355975\n",
      "Completeness: 0.48822283853437876\n",
      "V-Measure: 0.48240749223397283\n",
      "Adjusted Rand Score: 0.5534405687577364\n",
      "Adjusted Mutual Info Score: 0.4766811453432836\n",
      "Confusion matrix:\n",
      "[[3811  168]\n",
      " [ 841 3062]]\n",
      "\n",
      "\n",
      "\n",
      "\n",
      "Performing PCA with 5 components\n"
     ]
    },
    {
     "name": "stderr",
     "output_type": "stream",
     "text": [
      "C:\\Users\\Omkar Mehta\\Anaconda3\\lib\\site-packages\\sklearn\\metrics\\cluster\\supervised.py:732: FutureWarning: The behavior of AMI will change in version 0.22. To match the behavior of 'v_measure_score', AMI will use average_method='arithmetic' by default.\n",
      "  FutureWarning)\n"
     ]
    },
    {
     "name": "stdout",
     "output_type": "stream",
     "text": [
      "Dimensionality Reduction method: PCA\n",
      "Homogeneity: 0.4030310954131572\n",
      "Completeness: 0.40913422513451875\n",
      "V-Measure: 0.40605972886353675\n",
      "Adjusted Rand Score: 0.49039762202217696\n",
      "Adjusted Mutual Info Score: 0.4029764424504542\n",
      "Confusion matrix:\n",
      "[[ 326 3653]\n",
      " [3048  855]]\n",
      "\n",
      "\n",
      "\n",
      "\n",
      "Performing PCA with 10 components\n"
     ]
    },
    {
     "name": "stderr",
     "output_type": "stream",
     "text": [
      "C:\\Users\\Omkar Mehta\\Anaconda3\\lib\\site-packages\\sklearn\\metrics\\cluster\\supervised.py:732: FutureWarning: The behavior of AMI will change in version 0.22. To match the behavior of 'v_measure_score', AMI will use average_method='arithmetic' by default.\n",
      "  FutureWarning)\n"
     ]
    },
    {
     "name": "stdout",
     "output_type": "stream",
     "text": [
      "Dimensionality Reduction method: PCA\n",
      "Homogeneity: 0.3698707619352255\n",
      "Completeness: 0.37087211179179436\n",
      "V-Measure: 0.3703707600419226\n",
      "Adjusted Rand Score: 0.46548482923456114\n",
      "Adjusted Mutual Info Score: 0.36981307337176605\n",
      "Confusion matrix:\n",
      "[[ 523 3456]\n",
      " [3174  729]]\n",
      "\n",
      "\n",
      "\n",
      "\n",
      "Performing PCA with 20 components\n"
     ]
    },
    {
     "name": "stderr",
     "output_type": "stream",
     "text": [
      "C:\\Users\\Omkar Mehta\\Anaconda3\\lib\\site-packages\\sklearn\\metrics\\cluster\\supervised.py:732: FutureWarning: The behavior of AMI will change in version 0.22. To match the behavior of 'v_measure_score', AMI will use average_method='arithmetic' by default.\n",
      "  FutureWarning)\n"
     ]
    },
    {
     "name": "stdout",
     "output_type": "stream",
     "text": [
      "Dimensionality Reduction method: PCA\n",
      "Homogeneity: 0.2715827851678136\n",
      "Completeness: 0.2731929899719768\n",
      "V-Measure: 0.27238550791240157\n",
      "Adjusted Rand Score: 0.3467638786670723\n",
      "Adjusted Mutual Info Score: 0.2715160982281917\n",
      "Confusion matrix:\n",
      "[[1008 2971]\n",
      " [3291  612]]\n",
      "\n",
      "\n",
      "\n",
      "\n",
      "Performing PCA with 50 components\n"
     ]
    },
    {
     "name": "stderr",
     "output_type": "stream",
     "text": [
      "C:\\Users\\Omkar Mehta\\Anaconda3\\lib\\site-packages\\sklearn\\metrics\\cluster\\supervised.py:732: FutureWarning: The behavior of AMI will change in version 0.22. To match the behavior of 'v_measure_score', AMI will use average_method='arithmetic' by default.\n",
      "  FutureWarning)\n"
     ]
    },
    {
     "name": "stdout",
     "output_type": "stream",
     "text": [
      "Dimensionality Reduction method: PCA\n",
      "Homogeneity: 0.21587859149453342\n",
      "Completeness: 0.2231450707375682\n",
      "V-Measure: 0.2194516957234378\n",
      "Adjusted Rand Score: 0.26523352551493323\n",
      "Adjusted Mutual Info Score: 0.21580680410448266\n",
      "Confusion matrix:\n",
      "[[2587 1392]\n",
      " [ 519 3384]]\n",
      "\n",
      "\n",
      "\n",
      "\n",
      "Performing PCA with 100 components\n"
     ]
    },
    {
     "name": "stderr",
     "output_type": "stream",
     "text": [
      "C:\\Users\\Omkar Mehta\\Anaconda3\\lib\\site-packages\\sklearn\\metrics\\cluster\\supervised.py:732: FutureWarning: The behavior of AMI will change in version 0.22. To match the behavior of 'v_measure_score', AMI will use average_method='arithmetic' by default.\n",
      "  FutureWarning)\n"
     ]
    },
    {
     "name": "stdout",
     "output_type": "stream",
     "text": [
      "Dimensionality Reduction method: PCA\n",
      "Homogeneity: 0.008084422336641622\n",
      "Completeness: 0.019593861819431017\n",
      "V-Measure: 0.011446161421052061\n",
      "Adjusted Rand Score: 0.002370381712182017\n",
      "Adjusted Mutual Info Score: 0.007993559395506007\n",
      "Confusion matrix:\n",
      "[[3535  444]\n",
      " [3693  210]]\n",
      "\n",
      "\n",
      "\n",
      "\n",
      "Performing PCA with 200 components\n"
     ]
    },
    {
     "name": "stderr",
     "output_type": "stream",
     "text": [
      "C:\\Users\\Omkar Mehta\\Anaconda3\\lib\\site-packages\\sklearn\\metrics\\cluster\\supervised.py:732: FutureWarning: The behavior of AMI will change in version 0.22. To match the behavior of 'v_measure_score', AMI will use average_method='arithmetic' by default.\n",
      "  FutureWarning)\n"
     ]
    },
    {
     "name": "stdout",
     "output_type": "stream",
     "text": [
      "Dimensionality Reduction method: PCA\n",
      "Homogeneity: 0.37042457984618543\n",
      "Completeness: 0.389993851733022\n",
      "V-Measure: 0.3799574094246622\n",
      "Adjusted Rand Score: 0.4123769233285561\n",
      "Adjusted Mutual Info Score: 0.3703669409590951\n",
      "Confusion matrix:\n",
      "[[1241 2738]\n",
      " [3734  169]]\n",
      "\n",
      "\n",
      "\n",
      "\n",
      "Performing PCA with 300 components\n"
     ]
    },
    {
     "name": "stderr",
     "output_type": "stream",
     "text": [
      "C:\\Users\\Omkar Mehta\\Anaconda3\\lib\\site-packages\\sklearn\\metrics\\cluster\\supervised.py:732: FutureWarning: The behavior of AMI will change in version 0.22. To match the behavior of 'v_measure_score', AMI will use average_method='arithmetic' by default.\n",
      "  FutureWarning)\n"
     ]
    },
    {
     "name": "stdout",
     "output_type": "stream",
     "text": [
      "Dimensionality Reduction method: PCA\n",
      "Homogeneity: 0.0009397728961913728\n",
      "Completeness: 0.003655626395241836\n",
      "V-Measure: 0.0014951730576511452\n",
      "Adjusted Rand Score: -6.453217362089716e-05\n",
      "Adjusted Mutual Info Score: 0.0008481911818134042\n",
      "Confusion matrix:\n",
      "[[ 201 3778]\n",
      " [ 140 3763]]\n",
      "\n",
      "\n",
      "\n",
      "\n"
     ]
    },
    {
     "name": "stderr",
     "output_type": "stream",
     "text": [
      "C:\\Users\\Omkar Mehta\\Anaconda3\\lib\\site-packages\\sklearn\\metrics\\cluster\\supervised.py:732: FutureWarning: The behavior of AMI will change in version 0.22. To match the behavior of 'v_measure_score', AMI will use average_method='arithmetic' by default.\n",
      "  FutureWarning)\n"
     ]
    }
   ],
   "source": [
    "for i in [1,2,3,5,10,20,50,100,200,300]:\n",
    "    print('Performing PCA with',i,'components')\n",
    "    pca=PCA(n_components=i,random_state=42)\n",
    "    normalizer=Normalizer(copy=False)\n",
    "    lsa=make_pipeline(pca,normalizer)    \n",
    "    X_reduced=lsa.fit_transform(doc_features_matrix.toarray())\n",
    "    k_means(X_reduced,labels,'PCA')"
   ]
  },
  {
   "cell_type": "markdown",
   "metadata": {},
   "source": [
    "**As you can see from the results above, the best possible vale for r is 3 for PCA.**\n"
   ]
  },
  {
   "cell_type": "markdown",
   "metadata": {},
   "source": [
    "### 3. NMF"
   ]
  },
  {
   "cell_type": "code",
   "execution_count": null,
   "metadata": {},
   "outputs": [],
   "source": []
  },
  {
   "cell_type": "code",
   "execution_count": 213,
   "metadata": {},
   "outputs": [],
   "source": [
    "from sklearn.decomposition import NMF"
   ]
  },
  {
   "cell_type": "code",
   "execution_count": null,
   "metadata": {},
   "outputs": [
    {
     "name": "stdout",
     "output_type": "stream",
     "text": [
      "Performing NMF (without any non-linear transformation) with 1 components\n",
      "Dimensionality Reduction method: truncated SVD\n",
      "Homogeneity: 0.052879807675465795\n",
      "Completeness: 0.05323763717672065\n",
      "V-Measure: 0.05305811912306352\n",
      "Adjusted Rand Score: 0.07208952456367794\n",
      "Adjusted Mutual Info Score: 0.052793098349456086\n",
      "Confusion matrix:\n",
      "[[2710 1269]\n",
      " [1613 2290]]\n",
      "\n",
      "\n",
      "\n",
      "\n",
      "Performing NMF (without any non-linear transformation) with 2 components\n"
     ]
    },
    {
     "name": "stderr",
     "output_type": "stream",
     "text": [
      "C:\\Users\\Omkar Mehta\\Anaconda3\\lib\\site-packages\\sklearn\\metrics\\cluster\\supervised.py:732: FutureWarning: The behavior of AMI will change in version 0.22. To match the behavior of 'v_measure_score', AMI will use average_method='arithmetic' by default.\n",
      "  FutureWarning)\n"
     ]
    },
    {
     "name": "stdout",
     "output_type": "stream",
     "text": [
      "Dimensionality Reduction method: truncated SVD\n",
      "Homogeneity: 0.4939007112681431\n",
      "Completeness: 0.4958059362037159\n",
      "V-Measure: 0.4948514899187755\n",
      "Adjusted Rand Score: 0.5977161752870533\n",
      "Adjusted Mutual Info Score: 0.4938543776733699\n",
      "Confusion matrix:\n",
      "[[3658  321]\n",
      " [ 573 3330]]\n",
      "\n",
      "\n",
      "\n",
      "\n",
      "Performing NMF (without any non-linear transformation) with 3 components\n"
     ]
    },
    {
     "name": "stderr",
     "output_type": "stream",
     "text": [
      "C:\\Users\\Omkar Mehta\\Anaconda3\\lib\\site-packages\\sklearn\\metrics\\cluster\\supervised.py:732: FutureWarning: The behavior of AMI will change in version 0.22. To match the behavior of 'v_measure_score', AMI will use average_method='arithmetic' by default.\n",
      "  FutureWarning)\n"
     ]
    },
    {
     "name": "stdout",
     "output_type": "stream",
     "text": [
      "Dimensionality Reduction method: truncated SVD\n",
      "Homogeneity: 0.03304320790437732\n",
      "Completeness: 0.10780733578243279\n",
      "V-Measure: 0.05058269732769989\n",
      "Adjusted Rand Score: 0.009794693644355066\n",
      "Adjusted Mutual Info Score: 0.032954596503463655\n",
      "Confusion matrix:\n",
      "[[3940   39]\n",
      " [3510  393]]\n",
      "\n",
      "\n",
      "\n",
      "\n",
      "Performing NMF (without any non-linear transformation) with 5 components\n"
     ]
    },
    {
     "name": "stderr",
     "output_type": "stream",
     "text": [
      "C:\\Users\\Omkar Mehta\\Anaconda3\\lib\\site-packages\\sklearn\\metrics\\cluster\\supervised.py:732: FutureWarning: The behavior of AMI will change in version 0.22. To match the behavior of 'v_measure_score', AMI will use average_method='arithmetic' by default.\n",
      "  FutureWarning)\n"
     ]
    },
    {
     "name": "stdout",
     "output_type": "stream",
     "text": [
      "Dimensionality Reduction method: truncated SVD\n",
      "Homogeneity: 0.3158013979175542\n",
      "Completeness: 0.3377716967826582\n",
      "V-Measure: 0.3264172741684712\n",
      "Adjusted Rand Score: 0.35791363234689766\n",
      "Adjusted Mutual Info Score: 0.31573875779299126\n",
      "Confusion matrix:\n",
      "[[ 223 3756]\n",
      " [2543 1360]]\n",
      "\n",
      "\n",
      "\n",
      "\n",
      "Performing NMF (without any non-linear transformation) with 10 components\n"
     ]
    },
    {
     "name": "stderr",
     "output_type": "stream",
     "text": [
      "C:\\Users\\Omkar Mehta\\Anaconda3\\lib\\site-packages\\sklearn\\metrics\\cluster\\supervised.py:732: FutureWarning: The behavior of AMI will change in version 0.22. To match the behavior of 'v_measure_score', AMI will use average_method='arithmetic' by default.\n",
      "  FutureWarning)\n"
     ]
    },
    {
     "name": "stdout",
     "output_type": "stream",
     "text": [
      "Dimensionality Reduction method: truncated SVD\n",
      "Homogeneity: 0.10586033273434936\n",
      "Completeness: 0.20449331686304242\n",
      "V-Measure: 0.13950363137765617\n",
      "Adjusted Rand Score: 0.05205083013242666\n",
      "Adjusted Mutual Info Score: 0.10577844406038892\n",
      "Confusion matrix:\n",
      "[[3953   26]\n",
      " [3015  888]]\n",
      "\n",
      "\n",
      "\n",
      "\n",
      "Performing NMF (without any non-linear transformation) with 20 components\n"
     ]
    },
    {
     "name": "stderr",
     "output_type": "stream",
     "text": [
      "C:\\Users\\Omkar Mehta\\Anaconda3\\lib\\site-packages\\sklearn\\metrics\\cluster\\supervised.py:732: FutureWarning: The behavior of AMI will change in version 0.22. To match the behavior of 'v_measure_score', AMI will use average_method='arithmetic' by default.\n",
      "  FutureWarning)\n"
     ]
    },
    {
     "name": "stdout",
     "output_type": "stream",
     "text": [
      "Dimensionality Reduction method: truncated SVD\n",
      "Homogeneity: 0.17888565630407338\n",
      "Completeness: 0.2720793763010429\n",
      "V-Measure: 0.21585308960765232\n",
      "Adjusted Rand Score: 0.10489473581008085\n",
      "Adjusted Mutual Info Score: 0.1788104682962745\n",
      "Confusion matrix:\n",
      "[[2652 1327]\n",
      " [3891   12]]\n",
      "\n",
      "\n",
      "\n",
      "\n",
      "Performing NMF (without any non-linear transformation) with 50 components\n"
     ]
    },
    {
     "name": "stderr",
     "output_type": "stream",
     "text": [
      "C:\\Users\\Omkar Mehta\\Anaconda3\\lib\\site-packages\\sklearn\\metrics\\cluster\\supervised.py:732: FutureWarning: The behavior of AMI will change in version 0.22. To match the behavior of 'v_measure_score', AMI will use average_method='arithmetic' by default.\n",
      "  FutureWarning)\n"
     ]
    },
    {
     "name": "stdout",
     "output_type": "stream",
     "text": [
      "Dimensionality Reduction method: truncated SVD\n",
      "Homogeneity: 0.15112672052669102\n",
      "Completeness: 0.23802390717164626\n",
      "V-Measure: 0.18487325954249836\n",
      "Adjusted Rand Score: 0.08698409601656318\n",
      "Adjusted Mutual Info Score: 0.15104898900021113\n",
      "Confusion matrix:\n",
      "[[2747 1232]\n",
      " [3872   31]]\n",
      "\n",
      "\n",
      "\n",
      "\n",
      "Performing NMF (without any non-linear transformation) with 100 components\n"
     ]
    },
    {
     "name": "stderr",
     "output_type": "stream",
     "text": [
      "C:\\Users\\Omkar Mehta\\Anaconda3\\lib\\site-packages\\sklearn\\metrics\\cluster\\supervised.py:732: FutureWarning: The behavior of AMI will change in version 0.22. To match the behavior of 'v_measure_score', AMI will use average_method='arithmetic' by default.\n",
      "  FutureWarning)\n"
     ]
    },
    {
     "name": "stdout",
     "output_type": "stream",
     "text": [
      "Dimensionality Reduction method: truncated SVD\n",
      "Homogeneity: 0.015116185193097048\n",
      "Completeness: 0.10509244573393246\n",
      "V-Measure: 0.026430662421801542\n",
      "Adjusted Rand Score: 0.0020607125682831373\n",
      "Adjusted Mutual Info Score: 0.015025753513373477\n",
      "Confusion matrix:\n",
      "[[3971    8]\n",
      " [3750  153]]\n",
      "\n",
      "\n",
      "\n",
      "\n",
      "Performing NMF (without any non-linear transformation) with 200 components\n"
     ]
    },
    {
     "name": "stderr",
     "output_type": "stream",
     "text": [
      "C:\\Users\\Omkar Mehta\\Anaconda3\\lib\\site-packages\\sklearn\\metrics\\cluster\\supervised.py:732: FutureWarning: The behavior of AMI will change in version 0.22. To match the behavior of 'v_measure_score', AMI will use average_method='arithmetic' by default.\n",
      "  FutureWarning)\n"
     ]
    },
    {
     "name": "stdout",
     "output_type": "stream",
     "text": [
      "Dimensionality Reduction method: truncated SVD\n",
      "Homogeneity: 0.005188667615323315\n",
      "Completeness: 0.055605368364664315\n",
      "V-Measure: 0.009491647311155078\n",
      "Adjusted Rand Score: 0.0006289229079687217\n",
      "Adjusted Mutual Info Score: 0.00509711818435439\n",
      "Confusion matrix:\n",
      "[[  13 3966]\n",
      " [  81 3822]]\n",
      "\n",
      "\n",
      "\n",
      "\n",
      "Performing NMF (without any non-linear transformation) with 300 components\n"
     ]
    },
    {
     "name": "stderr",
     "output_type": "stream",
     "text": [
      "C:\\Users\\Omkar Mehta\\Anaconda3\\lib\\site-packages\\sklearn\\metrics\\cluster\\supervised.py:732: FutureWarning: The behavior of AMI will change in version 0.22. To match the behavior of 'v_measure_score', AMI will use average_method='arithmetic' by default.\n",
      "  FutureWarning)\n"
     ]
    }
   ],
   "source": [
    "for i in [1,2,3,5,10,20,50,100,200,300]:\n",
    "    print('Performing NMF (without any non-linear transformation) with',i,'components')\n",
    "    nmf = NMF(n_components=i, random_state=42)\n",
    "    normalizer = Normalizer(copy=False)\n",
    "    lsa = make_pipeline(nmf)\n",
    "    doc_features_matrix_reduced = lsa.fit_transform(doc_features_matrix)\n",
    "    k_means(doc_features_matrix_reduced, labels, 'truncated SVD')"
   ]
  },
  {
   "cell_type": "markdown",
   "metadata": {},
   "source": [
    "**By looking at the results, we found that the best r choice for NMF is 2. Also, we can clearly see\n",
    "that the performance of NMF is worse than that of SVD.**"
   ]
  },
  {
   "cell_type": "code",
   "execution_count": null,
   "metadata": {},
   "outputs": [],
   "source": []
  }
 ],
 "metadata": {
  "kernelspec": {
   "display_name": "Python 3",
   "language": "python",
   "name": "python3"
  },
  "language_info": {
   "codemirror_mode": {
    "name": "ipython",
    "version": 3
   },
   "file_extension": ".py",
   "mimetype": "text/x-python",
   "name": "python",
   "nbconvert_exporter": "python",
   "pygments_lexer": "ipython3",
   "version": "3.7.1"
  }
 },
 "nbformat": 4,
 "nbformat_minor": 2
}
